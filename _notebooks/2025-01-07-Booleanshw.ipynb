{
 "cells": [
  {
   "cell_type": "markdown",
   "metadata": {},
   "source": [
    "---\n",
    "layout: post\n",
    "title: Learning Habits\n",
    "description: Establishing pair programming habits in the classroom.  This will extend to other forms of collaboration, such as group work and team projects. \n",
    "categories: [Collaboration]\n",
    "courses: { csse: {week: 1}, csp: {week: 1}, csa: {week: 1} }\n",
    "menu: nav/pair_programming.html\n",
    "permalink: /pair/habits\n",
    "type: collab\n",
    "comments: true\n",
    "sticky_rank: 1\n",
    "---"
   ]
  }
 ],
 "metadata": {
  "language_info": {
   "name": "python"
  }
 },
 "nbformat": 4,
 "nbformat_minor": 2
}

Introduction:
Open a New Cell set its type to Code
Declare Variables: Create a variable for height and set it to a number (e.g., var height = 5"11;). Create a variable for inExtracurriculars and set it to a boolean value (e.g., var inExtracurriculars = true;).
Use Boolean Operators: Create a variable named isEligibleForRidingTheRollerCoaster. and use a combination of boolean operators to evaluate eligibility: Check if height is greater than or equal to 5"3 AND if inExtracurriculars is true.
Log the Result:Use an if statement to log a message indicating whether the student is eligible for riding the roller coaster based on the value of isEligibleForRidingTheRollerCoaster.
Run the Code: Execute the code to see the output in the console based on youre height and see if you can ride this rollercoaster.
