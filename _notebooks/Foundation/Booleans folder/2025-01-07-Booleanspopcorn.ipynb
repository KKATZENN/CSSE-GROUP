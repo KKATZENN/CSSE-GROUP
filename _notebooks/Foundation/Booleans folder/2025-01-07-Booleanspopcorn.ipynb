{
 "cells": [
  {
   "cell_type": "raw",
   "metadata": {
    "vscode": {
     "languageId": "raw"
    }
   },
   "source": [
    "---\n",
    "layout: post\n",
    "title: Boolean Popcorn Hacks\n",
    "description: Popcorn Hacks \n",
    "categories: [Foundation]\n",
    "courses: { csse: {week: 1}, csp: {week: 1}, csa: {week: 1} }\n",
    "comments: true\n",
    "sticky_rank: 1\n",
    "---"
   ]
  },
  {
   "cell_type": "markdown",
   "metadata": {},
   "source": [
    "let a = 10;\n",
    "let b = '10';\n",
    "\n",
    "console.log(a == b); // Should print: true"
   ]
  },
  {
   "cell_type": "markdown",
   "metadata": {},
   "source": [
    "let x = 5;\n",
    "let y = '5';\n",
    "\n",
    "console.log(x != y); // Should print: false"
   ]
  },
  {
   "cell_type": "markdown",
   "metadata": {},
   "source": [
    "let num1 = 5;\n",
    "let num2 = '5';\n",
    "\n",
    "console.log(num1 === num2); // Should print: false"
   ]
  },
  {
   "cell_type": "markdown",
   "metadata": {},
   "source": [
    "let p = 10;\n",
    "let q = 10;\n",
    "\n",
    "console.log(p !== q); // Should print: false"
   ]
  },
  {
   "cell_type": "markdown",
   "metadata": {},
   "source": [
    "let a = 7;\n",
    "let b = 3;\n",
    "\n",
    "console.log(a > b); // Should print: true "
   ]
  },
  {
   "cell_type": "code",
   "execution_count": null,
   "metadata": {
    "vscode": {
     "languageId": "javascript"
    }
   },
   "outputs": [],
   "source": [
    "let a = 10;\n",
    "let b = '10';\n",
    "\n",
    "console.log(a == b); // Should print: true\n",
    "\n",
    "\n"
   ]
  },
  {
   "cell_type": "markdown",
   "metadata": {},
   "source": [
    "Variable Assignments:\n",
    "\n",
    "a is assigned the number 10.\n",
    "b is assigned the string '10'.\n",
    "Comparison (==):\n",
    "\n",
    "The == operator in JavaScript performs loose equality. This means it converts both operands to the same type before comparing them.\n",
    "In this case:\n",
    "a is a number (10).\n",
    "b is a string ('10').\n",
    "JavaScript will convert the string '10' to a number before comparing, so the comparison becomes 10 == 10.\n",
    "Result:\n",
    "\n",
    "Since 10 is equal to 10 after coercion, the result of a == b is true.\n",
    "\n",
    "The == operator uses type coercion to compare values. JavaScript will convert the operands to the same type if they are not already the same. In this case, the string '10' is converted into a number (10), and the comparison checks if 10 is equal to 10, which is true."
   ]
  },
  {
   "cell_type": "markdown",
   "metadata": {},
   "source": [
    "let x = 5;\n",
    "let y = '5';\n",
    "\n",
    "console.log(x != y); // Should print: false\n",
    "\n",
    "x is assigned the number 5.\n",
    "y is assigned the string '5'.\n",
    "The != operator performs loose inequality comparison. This means JavaScript will try to convert the values to the same type before comparing them.\n",
    "\n",
    "When using !=, JavaScript will attempt to coerce the string '5' into a number, resulting in 5.\n",
    "The comparison becomes 5 != 5, which evaluates to false because the values are the same after coercion.\n",
    "Why false is printed:\n",
    "Since x (which is a number) and y (which is a string) are converted to the same type (number 5) before the comparison, they are considered equal.\n",
    "Therefore, x != y is false.\n"
   ]
  },
  {
   "cell_type": "markdown",
   "metadata": {},
   "source": [
    "let num1 = 5;\n",
    "let num2 = '5';\n",
    "\n",
    "console.log(num1 === num2); // Should print: false\n",
    "\n",
    "Variable Assignments:\n",
    "\n",
    "num1 is assigned the number 5.\n",
    "num2 is assigned the string '5'.\n",
    "Comparison (===):\n",
    "\n",
    "The === operator in JavaScript performs strict equality comparison. This means it checks both the value and the type of the operands without type coercion.\n",
    "In this case:\n",
    "num1 is a number (5).\n",
    "num2 is a string ('5').\n",
    "Result:\n",
    "\n",
    "Since num1 is a number and num2 is a string, their types are different.\n",
    "=== does not perform any type conversion, so it directly compares both the value and the type.\n",
    "Since 5 (number) is not the same type as '5' (string), the comparison evaluates to false.\n",
    "Why does this happen?\n",
    "The === operator compares the type and value directly. Since the types are different (one is a number and the other is a string), the result of the comparison is false.\n"
   ]
  },
  {
   "cell_type": "markdown",
   "metadata": {},
   "source": [
    "let p = 10;\n",
    "let q = 10;\n",
    "\n",
    "console.log(p !== q); // Should print: false\n",
    "\n",
    "Variable Assignments:\n",
    "\n",
    "p is assigned the number 10.\n",
    "q is assigned the number 10.\n",
    "Comparison (!==):\n",
    "\n",
    "The !== operator in JavaScript performs strict inequality. This means it checks whether the values are not equal and also checks if the types are different.\n",
    "The !== operator does not perform type coercion (unlike the != operator). Both the value and the type are checked.\n",
    "Result:\n",
    "\n",
    "p is a number (10), and q is also a number (10).\n",
    "Since both the value and the type are exactly the same (both are numbers with the value 10), the comparison p !== q evaluates to false because they are not different.\n",
    "Why does this happen?\n",
    "The !== operator checks both value and type. Since both p and q are of type number and their values are the same (10), they are not unequal in either value or type.\n",
    "As a result, p !== q evaluates to false, because they are equal in both type and value.\n"
   ]
  },
  {
   "cell_type": "markdown",
   "metadata": {},
   "source": [
    "\n"
   ]
  },
  {
   "cell_type": "markdown",
   "metadata": {},
   "source": [
    "let a = 7;\n",
    "let b = 3;\n",
    "\n",
    "console.log(a > b); // Should print: true\n",
    "\n",
    "1. Variable Assignments:\n",
    "\n",
    "a is assigned the value 7.\n",
    "b is assigned the value 3.\n",
    "2. Comparison (>):\n",
    "\n",
    "The > operator checks if the value on the left-hand side (in this case, a) is greater than the value on the right-hand side (in this case, b).\n",
    "Here, you are checking if a (which is 7) is greater than b (which is 3).\n",
    "Result:\n",
    "\n",
    "Since 7 is indeed greater than 3, the comparison a > b evaluates to true.\n",
    "Why does this happen?\n",
    "The > operator simply compares the two numbers to see if the left-hand side is greater than the right-hand side.\n",
    "In this case, 7 > 3 is true because 7 is greater than 3."
   ]
  }
 ],
 "metadata": {
  "language_info": {
   "name": "python"
  }
 },
 "nbformat": 4,
 "nbformat_minor": 2
}
