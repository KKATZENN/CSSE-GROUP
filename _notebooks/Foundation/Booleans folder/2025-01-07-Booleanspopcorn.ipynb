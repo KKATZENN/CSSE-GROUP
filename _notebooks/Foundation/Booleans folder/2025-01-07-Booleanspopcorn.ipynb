{
 "cells": [
  {
   "cell_type": "raw",
   "metadata": {
    "vscode": {
     "languageId": "raw"
    }
   },
   "source": [
    "---\n",
    "layout: post\n",
    "title: Boolean Popcorn Hacks\n",
    "description: Popcorn Hacks \n",
    "categories: [Foundation]\n",
    "courses: { csse: {week: 1}, csp: {week: 1}, csa: {week: 1} }\n",
    "comments: true\n",
    "sticky_rank: 1\n",
    "---"
   ]
  },
  {
   "cell_type": "markdown",
   "metadata": {},
   "source": [
    "let a = 10;\n",
    "let b = '10';\n",
    "\n",
    "console.log(a == b); // Should print: true"
   ]
  },
  {
   "cell_type": "markdown",
   "metadata": {},
   "source": [
    "let x = 5;\n",
    "let y = '5';\n",
    "\n",
    "console.log(x != y); // Should print: false"
   ]
  },
  {
   "cell_type": "markdown",
   "metadata": {},
   "source": [
    "let num1 = 5;\n",
    "let num2 = '5';\n",
    "\n",
    "console.log(num1 === num2); // Should print: false"
   ]
  },
  {
   "cell_type": "markdown",
   "metadata": {},
   "source": [
    "let p = 10;\n",
    "let q = 10;\n",
    "\n",
    "console.log(p !== q); // Should print: false"
   ]
  },
  {
   "cell_type": "markdown",
   "metadata": {},
   "source": [
    "let a = 7;\n",
    "let b = 3;\n",
    "\n",
    "console.log(a > b); // Should print: true "
   ]
  }
 ],
 "metadata": {
  "language_info": {
   "name": "python"
  }
 },
 "nbformat": 4,
 "nbformat_minor": 2
}
