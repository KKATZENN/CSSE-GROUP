{
 "cells": [
  {
   "cell_type": "raw",
   "metadata": {
    "vscode": {
     "languageId": "raw"
    }
   },
   "source": [
    "---\n",
    "layout: post\n",
    "title: Boolean Homework\n",
    "description: Homework\n",
    "categories: [Foundation]\n",
    "courses: { csse: {week: 1}, csp: {week: 1}, csa: {week: 1} }\n",
    "comments: true\n",
    "sticky_rank: 1\n",
    "---"
   ]
  },
  {
   "cell_type": "markdown",
   "metadata": {},
   "source": [
    "## Booleans"
   ]
  },
  {
   "cell_type": "raw",
   "metadata": {
    "vscode": {
     "languageId": "raw"
    }
   },
   "source": [
    "%% js\n",
    "\n",
    "let isHuman = true; \n",
    "\n",
    "//checks\n",
    "if (isHuman) {\n",
    "    console.log(\"Welcome, Human!\");\n",
    "} else {\n",
    "    console.log(\"Welcome, Allien!\");\n",
    "}\n",
    "\n"
   ]
  },
  {
   "cell_type": "raw",
   "metadata": {
    "vscode": {
     "languageId": "raw"
    }
   },
   "source": [
    "%% js\n",
    "\n",
    "const userName = \"Max\"; \n",
    "let Height = 5'12; \n",
    "let inGoodHealth = true; \n",
    "\n",
    "const isEligibleForRidingRollerCoaster = (Height >= 5'3) && inGoodHealth;\n",
    "\n",
    "if (isEligibleForRidingRollerCoaster) {\n",
    "    console.log(\"Good, \" + userName + \"! You can ride this roller coaster.\");\n",
    "} else {\n",
    "    console.log(\"Sorry, \" + userName + \"you can't ride this roller coaster.\");\n",
    "}"
   ]
  }
 ],
 "metadata": {
  "language_info": {
   "name": "python"
  }
 },
 "nbformat": 4,
 "nbformat_minor": 2
}
