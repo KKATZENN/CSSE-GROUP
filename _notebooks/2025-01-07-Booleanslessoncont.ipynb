{
 "cells": [
  {
   "cell_type": "raw",
   "metadata": {
    "vscode": {
     "languageId": "raw"
    }
   },
   "source": [
    "---\n",
    "layout: post\n",
    "title: Boolean Lesson 2\n",
    "description: Continue reading to learn about Booleans\n",
    "categories: [Collaboration]\n",
    "courses: { csse: {week: 1}, csp: {week: 1}, csa: {week: 1} }\n",
    "menu: nav/pair_programming.html\n",
    "permalink: /pair/habits\n",
    "type: collab\n",
    "comments: true\n",
    "sticky_rank: 1\n",
    "---"
   ]
  },
  {
   "cell_type": "markdown",
   "metadata": {},
   "source": [
    "Testing testing 1, 2 , 3"
   ]
  },
  {
   "cell_type": "code",
   "execution_count": 1,
   "metadata": {
    "vscode": {
     "languageId": "javascript"
    }
   },
   "outputs": [
    {
     "data": {
      "application/javascript": "\n//You can use these to check your booleans\nlet keyInserted = true;\nlet correctKey = false;\nlet lockPick = true;\n\nif (lockPick) {\n    console.log(\"Door opened.\")\n}\nelse {\n    if (keyInserted){\n        console.log(\"Inserted key into door\")\n    }\n    else {\n        console.log(\"Insert key into door\")\n    }\n    if (keyInserted && correctKey){\n        console.log(\"Door opened\")\n    }\n    else {\n        console.log(\"Incorrect key\")\n    }\n}\n\n",
      "text/plain": [
       "<IPython.core.display.Javascript object>"
      ]
     },
     "metadata": {},
     "output_type": "display_data"
    }
   ],
   "source": [
    "%%js\n",
    "\n",
    "//You can use these to check your booleans\n",
    "let keyInserted = true;\n",
    "let correctKey = false;\n",
    "let lockPick = true;\n",
    "\n",
    "if (lockPick) {\n",
    "    console.log(\"Door opened.\")\n",
    "}\n",
    "else {\n",
    "    if (keyInserted){\n",
    "        console.log(\"Inserted key into door\")\n",
    "    }\n",
    "    else {\n",
    "        console.log(\"Insert key into door\")\n",
    "    }\n",
    "    if (keyInserted && correctKey){\n",
    "        console.log(\"Door opened\")\n",
    "    }\n",
    "    else {\n",
    "        console.log(\"Incorrect key\")\n",
    "    }\n",
    "}\n",
    "\n"
   ]
  }
 ],
 "metadata": {
  "kernelspec": {
   "display_name": "Python 3 (ipykernel)",
   "language": "python",
   "name": "python3"
  },
  "language_info": {
   "codemirror_mode": {
    "name": "ipython",
    "version": 3
   },
   "file_extension": ".py",
   "mimetype": "text/x-python",
   "name": "python",
   "nbconvert_exporter": "python",
   "pygments_lexer": "ipython3",
   "version": "3.10.12"
  }
 },
 "nbformat": 4,
 "nbformat_minor": 2
}
