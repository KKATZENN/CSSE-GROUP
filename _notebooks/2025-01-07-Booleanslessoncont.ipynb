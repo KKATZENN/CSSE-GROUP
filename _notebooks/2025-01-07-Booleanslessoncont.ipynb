{
 "cells": [
  {
   "cell_type": "markdown",
   "metadata": {},
   "source": [
    "---\n",
    "layout: post\n",
    "title: Boolean Lesson 2\n",
    "description: Continue reading to learn about Booleans\n",
    "categories: [Collaboration]\n",
    "courses: { csse: {week: 1}, csp: {week: 1}, csa: {week: 1} }\n",
    "menu: nav/pair_programming.html\n",
    "permalink: /pair/habits\n",
    "type: collab\n",
    "comments: true\n",
    "sticky_rank: 1\n",
    "---"
   ]
  },
  {
   "cell_type": "code",
   "execution_count": null,
   "metadata": {
    "vscode": {
     "languageId": "javascript"
    }
   },
   "outputs": [],
   "source": [
    "%%js\n",
    "\n",
    "//You can use these to check your booleans\n",
    "let keyInserted = true;\n",
    "let correctKey = false;\n",
    "let lockPick = true;\n",
    "\n",
    "if (lockPick) {\n",
    "    console.log(\"Door opened.\")\n",
    "}\n",
    "else {\n",
    "    if (keyInserted){\n",
    "        console.log(\"Inserted key into door\")\n",
    "    }\n",
    "    else {\n",
    "        console.log(\"Insert key into door\")\n",
    "    }\n",
    "    if (keyInserted && correctKey){\n",
    "        console.log(\"Door opened\")\n",
    "    }\n",
    "    else {\n",
    "        console.log(\"Incorrect key\")\n",
    "    }\n",
    "}\n",
    "\n"
   ]
  }
 ],
 "metadata": {
  "language_info": {
   "name": "python"
  }
 },
 "nbformat": 4,
 "nbformat_minor": 2
}
