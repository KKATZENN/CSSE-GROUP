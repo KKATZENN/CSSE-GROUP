{
 "cells": [
  {
   "cell_type": "markdown",
   "metadata": {},
   "source": [
    "---\n",
    "layout: post\n",
    "title: Boolean Lesson 2\n",
    "description: Continue reading to learn about Booleans\n",
    "categories: [Collaboration]\n",
    "courses: { csse: {week: 1}, csp: {week: 1}, csa: {week: 1} }\n",
    "menu: nav/pair_programming.html\n",
    "permalink: /pair/habits\n",
    "type: collab\n",
    "comments: true\n",
    "sticky_rank: 1\n",
    "---"
   ]
  }
 ],
 "metadata": {
  "language_info": {
   "name": "python"
  }
 },
 "nbformat": 4,
 "nbformat_minor": 2
}
